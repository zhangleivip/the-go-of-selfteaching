{
 "cells": [
  {
   "cell_type": "code",
   "execution_count": null,
   "metadata": {},
   "outputs": [],
   "source": [
    "echo1"
   ]
  },
  {
   "cell_type": "code",
   "execution_count": null,
   "metadata": {},
   "outputs": [],
   "source": [
    "package main\n",
    "\n",
    "import (\n",
    "\t\"fmt\"\n",
    "\t\"os\"\n",
    ")\n",
    "\n",
    "func main() {\n",
    "\tvar s, sep string\n",
    "\tfor i := 1; i < len(os.Args); i++ {\n",
    "\t\ts += sep + os.Args[i]\n",
    "\t\tsep = \"x\"\n",
    "\t}\n",
    "\tfmt.Println(s)\n",
    "\tfmt.Println(os.Args)\n",
    "}"
   ]
  },
  {
   "cell_type": "markdown",
   "metadata": {},
   "source": [
    "执行：go run main.go 1 2 3\n",
    "执行结果：\n",
    "\n",
    "1x2x3"
   ]
  },
  {
   "cell_type": "markdown",
   "metadata": {},
   "source": [
    "[/var/folders/sr/fch7w8mx0zqgfynyqf8l4f9r0000gn/T/go-build504303526/b001/exe/main 1 2 3]"
   ]
  },
  {
   "cell_type": "markdown",
   "metadata": {},
   "source": [
    "os.Args的第一个元素，os.Args[0], 是命令本身的名字；其它的元素则是程序启动时传给它的参数\n",
    "os.Args变量是一个字符串（string）的切片（slice）\n",
    "用s[i]访问单个元素，用s[m:n]获取子序列.区间索引时，Go言里也采用左闭右开形式, 即，区间包括第一个索引元素，不包括最后一个, 因为这样可以简化逻辑。"
   ]
  },
  {
   "cell_type": "markdown",
   "metadata": {},
   "source": [
    "如前文所述，每次循环迭代字符串s的内容都会更新。+=连接原字符串、空格和下个参数，产生新字符串, 并把它赋值给s。s原来的内容已经不再使用，将在适当时机对它进行垃圾回收。\n",
    "\n",
    "如果连接涉及的数据量很大，这种方式代价高昂。一种简单且高效的解决方案是使用strings包的Join函数："
   ]
  },
  {
   "cell_type": "code",
   "execution_count": 1,
   "metadata": {},
   "outputs": [
    {
     "ename": "ERROR",
     "evalue": "repl.go:2:5: undefined \"fmt\" in fmt.Println <*ast.SelectorExpr>",
     "output_type": "error",
     "traceback": [
      "repl.go:2:5: undefined \"fmt\" in fmt.Println <*ast.SelectorExpr>"
     ]
    }
   ],
   "source": [
    "func main() {\n",
    "    fmt.Println(strings.Join(os.Args[1:], \" \"))\n",
    "}"
   ]
  },
  {
   "cell_type": "markdown",
   "metadata": {},
   "source": [
    "### homework"
   ]
  },
  {
   "cell_type": "code",
   "execution_count": 2,
   "metadata": {},
   "outputs": [
    {
     "ename": "ERROR",
     "evalue": "runtime error: index out of range",
     "output_type": "error",
     "traceback": [
      "runtime error: index out of range"
     ]
    }
   ],
   "source": [
    "package main\n",
    "\n",
    "import (\n",
    "\t\"fmt\"\n",
    "\t\"os\"\n",
    ")\n",
    "\n",
    "func main() {\n",
    "\tfor a, arg := range os.Args[0:]{\n",
    "\t\tfmt.Println(\"params\",a,\":\",arg)\n",
    "\t}\n",
    "\n",
    "}"
   ]
  },
  {
   "cell_type": "markdown",
   "metadata": {},
   "source": [
    "### reference："
   ]
  },
  {
   "cell_type": "code",
   "execution_count": null,
   "metadata": {},
   "outputs": [],
   "source": [
    "https://books.studygolang.com/gopl-zh/ch1/ch1-02.html"
   ]
  }
 ],
 "metadata": {
  "kernelspec": {
   "display_name": "Go",
   "language": "go",
   "name": "gophernotes"
  },
  "language_info": {
   "codemirror_mode": "",
   "file_extension": ".go",
   "mimetype": "",
   "name": "go",
   "nbconvert_exporter": "",
   "pygments_lexer": "",
   "version": "go1.12.1"
  }
 },
 "nbformat": 4,
 "nbformat_minor": 2
}
