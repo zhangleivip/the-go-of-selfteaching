{
 "cells": [
  {
   "cell_type": "markdown",
   "metadata": {},
   "source": [
    "# Jupyter Lab 多语言支持"
   ]
  },
  {
   "cell_type": "markdown",
   "metadata": {},
   "source": [
    "## 内容目标"
   ]
  },
  {
   "cell_type": "markdown",
   "metadata": {},
   "source": [
    "> 搭建 JupyterLab 的 go 内核，并可以成功在 JupyterLab 上运行程序。"
   ]
  },
  {
   "cell_type": "markdown",
   "metadata": {},
   "source": [
    "## 什么是JupyterLab？"
   ]
  },
  {
   "cell_type": "markdown",
   "metadata": {},
   "source": [
    "> JupyterLab 是什么？JupyterLab 是一种全新的「笔记」工具。他的牛逼之处在于，笔记中的代码块全都是可执行的！"
   ]
  },
  {
   "cell_type": "markdown",
   "metadata": {},
   "source": [
    "## 参考"
   ]
  },
  {
   "cell_type": "markdown",
   "metadata": {},
   "source": [
    "> * [go](https://github.com/gopherdata/gophernotes)\n",
    "> * [echo $PATH](https://blog.csdn.net/politefish/article/details/4729551)\n",
    "> * [Mac环境变量配置](https://hao5743.github.io/2017/06/28/2017-06-28/)"
   ]
  },
  {
   "cell_type": "markdown",
   "metadata": {},
   "source": [
    "`echo $PATH`\n",
    "`echo $PATH` 显示当前PATH环境变量，该变量的值由一系列以冒号分隔的目录组成。如/Users/zhanglei/anaconda3/bin:/Users/zhanglei/.rvm/gems/ruby-2.6.0/bin:/Users/zhanglei/.rvm/bin:/Users/zhanglei/go/bin。\n",
    "当我们执行程序时，shell自动"
   ]
  },
  {
   "cell_type": "markdown",
   "metadata": {},
   "source": [
    "按照命令执行\n",
    "```\n",
    "$ go get -u github.com/gopherdata/gophernotes\n",
    "$ mkdir -p ~/Library/Jupyter/kernels/gophernotes\n",
    "$ cp $GOPATH/src/github.com/gopherdata/gophernotes/kernel/* ~/Library/Jupyter/kernels/gophernotes\n",
    "```"
   ]
  },
  {
   "cell_type": "markdown",
   "metadata": {},
   "source": [
    "故障排除\n",
    "正在运行的笔记本中的“内核错误”\n",
    "执行\n",
    "```\n",
    "export PATH=$PATH:~/go/bin\n",
    "echo $PATH\n",
    "```\n",
    "显示结果字符串中包含以下即可\n",
    "/Users/zhanglei/go/bin\n"
   ]
  }
 ],
 "metadata": {
  "kernelspec": {
   "display_name": "Go",
   "language": "go",
   "name": "gophernotes"
  },
  "language_info": {
   "codemirror_mode": "",
   "file_extension": ".go",
   "mimetype": "",
   "name": "go",
   "nbconvert_exporter": "",
   "pygments_lexer": "",
   "version": "go1.12.1"
  }
 },
 "nbformat": 4,
 "nbformat_minor": 2
}
