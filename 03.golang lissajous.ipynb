{
 "cells": [
  {
   "cell_type": "code",
   "execution_count": null,
   "metadata": {},
   "outputs": [],
   "source": [
    "// Lissajous generates GIF animations of random Lissajous figures.\n",
    "package main\n",
    "\n",
    "import (\n",
    "\t\"image\"\n",
    "\t\"image/color\"\n",
    "\t\"image/gif\"\n",
    "\t\"io\"\n",
    "\t\"math\"\n",
    "\t\"math/rand\"\n",
    "\t\"os\"\n",
    "\t\"time\"\n",
    ")\n",
    "\n",
    "var palette = []color.Color{color.White, color.Black}\n",
    "\n",
    "const (\n",
    "\twhiteIndex = 0 // first color in palette\n",
    "\tblackIndex = 1 // next color in palette\n",
    ")\n",
    "\n",
    "func main() {\n",
    "\trand.Seed(time.Now().UTC().UnixNano())\n",
    "\tlissajous(os.Stdout)\n",
    "}\n",
    "\n",
    "func lissajous(out io.Writer) {\n",
    "\tconst (\n",
    "\t\tcycles  = 5     // number of complete x oscillator revolutions\n",
    "\t\tres     = 0.001 // angular resolution\n",
    "\t\tsize    = 100   // image canvas covers [-size..+size]\n",
    "\t\tnframes = 64    // number of animation frames\n",
    "\t\tdelay   = 8     // delay between frames in 10ms units\n",
    "\t)\n",
    "\n",
    "\tfreq := rand.Float64() * 3.0 // relative frequency of y oscillator\n",
    "\tanim := gif.GIF{LoopCount: nframes}\n",
    "\tphase := 0.0 // phase difference\n",
    "\tfor i := 0; i < nframes; i++ {\n",
    "\t\trect := image.Rect(0, 0, 2*size+1, 2*size+1)\n",
    "\t\timg := image.NewPaletted(rect, palette)\n",
    "\t\tfor t := 0.0; t < cycles*2*math.Pi; t += res {\n",
    "\t\t\tx := math.Sin(t)\n",
    "\t\t\ty := math.Sin(t*freq + phase)\n",
    "\t\t\timg.SetColorIndex(size+int(x*size+0.5), size+int(y*size+0.5),\n",
    "\t\t\t\tblackIndex)\n",
    "\t\t}\n",
    "\t\tphase += 0.1\n",
    "\t\tanim.Delay = append(anim.Delay, delay)\n",
    "\t\tanim.Image = append(anim.Image, img)\n",
    "\t}\n",
    "\tgif.EncodeAll(out, &anim) // NOTE: ignoring encoding errors\n",
    "}"
   ]
  },
  {
   "cell_type": "code",
   "execution_count": 1,
   "metadata": {},
   "outputs": [
    {
     "ename": "ERROR",
     "evalue": "repl.go:1:1: undefined \"rand\" in rand.Seed <*ast.SelectorExpr>",
     "output_type": "error",
     "traceback": [
      "repl.go:1:1: undefined \"rand\" in rand.Seed <*ast.SelectorExpr>"
     ]
    }
   ],
   "source": [
    "rand.Seed(time.Now().UnixNano())"
   ]
  },
  {
   "cell_type": "markdown",
   "metadata": {},
   "source": [
    "设置随机数种子，加上这行代码，可以保证每次随机都是随机的"
   ]
  }
 ],
 "metadata": {
  "kernelspec": {
   "display_name": "Go",
   "language": "go",
   "name": "gophernotes"
  },
  "language_info": {
   "codemirror_mode": "",
   "file_extension": ".go",
   "mimetype": "",
   "name": "go",
   "nbconvert_exporter": "",
   "pygments_lexer": "",
   "version": "go1.12.1"
  }
 },
 "nbformat": 4,
 "nbformat_minor": 2
}
